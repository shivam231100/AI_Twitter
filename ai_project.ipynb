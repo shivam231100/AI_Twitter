{
 "cells": [
  {
   "cell_type": "code",
   "execution_count": 12,
   "metadata": {
    "scrolled": false
   },
   "outputs": [
    {
     "name": "stdout",
     "output_type": "stream",
     "text": [
      "tweets are:\n",
      "\n",
      "\n",
      "It seems as if sincere honesty is a lost art in today's society. Check out my latest article: Why Our New Age Mindset Can Hold Us Back https://www.linkedin.com/pulse/why-our-new-age-mindset-can-hold-us-back-aleah-marrow via @LinkedIn\n",
      "But art can and will always reflect reality, sure it’s escapism but there will always be a connection\n",
      " Geek Art Collection Link: https://Instagram.com/geektyrant_com\n",
      "Yo me compré todo en le día uno x'D y si costó\n",
      "My favorite art style (if we don't count Heroes United) \n",
      "I made an art account so my art wouldn't get drowned in FF14 and Granblue hahaha \n",
      "可能です！！DMに島パス貼りますね！\n",
      "La Leche League's \"The Womanly Art of Breastfeeding.\" It's unfortunately cis-centric, but is otherwise a really valuable resource.\n",
      "Clean style!\n",
      "Im working on this art history homework work since 16 oclock and now its 2oclock in the morning i love that for me\n"
     ]
    },
    {
     "data": {
      "image/png": "[encoded data removed]",
      "text/plain": [
       "<matplotlib.figure.Figure at 0x2410d4c2160>"
      ]
     },
     "metadata": {},
     "output_type": "display_data"
    }
   ],
   "source": [
    "from textblob import TextBlob \n",
    "import matplotlib.pyplot as plt\n",
    "import GetOldTweets3 as got\n",
    "\n",
    "#making function for getting tweets.\n",
    "def get_tweets():\n",
    "    tweetCriteria= got.manager.TweetCriteria().setQuerySearch('art') \\\n",
    "    .setSince(\"2019-05-01\")  \\\n",
    "    .setUntil(\"2020-03-30\")  \\\n",
    "    .setMaxTweets(10)#taking max no of tweets we want to search\n",
    "#we are gettingtweets by using setQuerySearch\n",
    "\n",
    "    tweets= got.manager.TweetManager.getTweets(tweetCriteria)\n",
    "#in tweets we are storing our extracted tweets\n",
    "\n",
    "    positive=0 \n",
    "    negative=0\n",
    "    neutral=0\n",
    "    polarity=0\n",
    "    print(\"tweets are:\\n\\n\")\n",
    "\n",
    "#making a for loop for analyzing n number of tweets\n",
    "    for tweet in tweets:\n",
    "        print(tweet.text)\n",
    "        \n",
    "#here we are using python inbuilt module which is textblob for analysing the sentiments of our tweets\n",
    "        analysis= TextBlob(tweet.text)\n",
    "    \n",
    "        polarity += analysis.sentiment.polarity\n",
    "        if(analysis.sentiment.polarity==0):\n",
    "            neutral+=1\n",
    "        elif(analysis.sentiment.polarity<0.00):\n",
    "            negative+=1\n",
    "        elif(analysis.sentiment.polarity>0.00):\n",
    "            positive+=1\n",
    "            \n",
    "#making pie chart on the basis of analysis.\n",
    "    labels=['Positive', 'Neutral', 'Negative']\n",
    "    values=[positive,neutral,negative]\n",
    "    colors= ['blue','gold','red']\n",
    "    texts=plt.pie(values, colors=colors, labels=labels,autopct=\"%.2f%%\")\n",
    "    plt.title('How people are reacting by analyzing Tweets.')\n",
    "    plt.show()\n",
    "    \n",
    "#calling the function\n",
    "get_tweets()"
   ]
  },
  {
   "cell_type": "code",
   "execution_count": null,
   "metadata": {},
   "outputs": [],
   "source": []
  }
 ],
 "metadata": {
  "kernelspec": {
   "display_name": "Python 3",
   "language": "python",
   "name": "python3"
  },
  "language_info": {
   "codemirror_mode": {
    "name": "ipython",
    "version": 3
   },
   "file_extension": ".py",
   "mimetype": "text/x-python",
   "name": "python",
   "nbconvert_exporter": "python",
   "pygments_lexer": "ipython3",
   "version": "3.6.4"
  }
 },
 "nbformat": 4,
 "nbformat_minor": 2
}
